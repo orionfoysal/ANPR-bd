{
 "cells": [
  {
   "cell_type": "code",
   "execution_count": 7,
   "metadata": {},
   "outputs": [],
   "source": [
    "import pandas as pd\n",
    "import numpy as np\n",
    "import matplotlib.pyplot as plt\n",
    "import matplotlib.image as mpimg\n",
    "import seaborn as sns\n",
    "%matplotlib inline\n",
    "\n",
    "np.random.seed(2)\n",
    "\n",
    "from sklearn.preprocessing import LabelEncoder\n",
    "from sklearn.model_selection import train_test_split\n",
    "from sklearn.metrics import confusion_matrix\n",
    "import itertools\n",
    "\n",
    "from keras.utils.np_utils import to_categorical # convert to one-hot-encoding\n",
    "from keras.models import Sequential\n",
    "from keras.layers import Dense, Dropout, Flatten, Conv2D, MaxPool2D\n",
    "from keras.optimizers import RMSprop\n",
    "from keras.preprocessing.image import ImageDataGenerator\n",
    "from keras.callbacks import ReduceLROnPlateau\n",
    "\n",
    "\n",
    "\n",
    "sns.set(style='white', context='notebook', palette='deep')\n",
    "\n"
   ]
  },
  {
   "cell_type": "code",
   "execution_count": 8,
   "metadata": {
    "collapsed": true
   },
   "outputs": [],
   "source": [
    "train = pd.read_csv(\"oka.csv\")"
   ]
  },
  {
   "cell_type": "code",
   "execution_count": 14,
   "metadata": {},
   "outputs": [
    {
     "name": "stdout",
     "output_type": "stream",
     "text": [
      "<class 'pandas.core.series.Series'>\n",
      "<class 'numpy.ndarray'>\n"
     ]
    },
    {
     "ename": "AttributeError",
     "evalue": "'numpy.ndarray' object has no attribute 'value_counts'",
     "output_type": "error",
     "traceback": [
      "\u001b[1;31m---------------------------------------------------------------------------\u001b[0m",
      "\u001b[1;31mAttributeError\u001b[0m                            Traceback (most recent call last)",
      "\u001b[1;32m<ipython-input-14-eb0c08dcfb87>\u001b[0m in \u001b[0;36m<module>\u001b[1;34m()\u001b[0m\n\u001b[0;32m     14\u001b[0m \u001b[0mg\u001b[0m \u001b[1;33m=\u001b[0m \u001b[0msns\u001b[0m\u001b[1;33m.\u001b[0m\u001b[0mcountplot\u001b[0m\u001b[1;33m(\u001b[0m\u001b[0mY_train\u001b[0m\u001b[1;33m)\u001b[0m\u001b[1;33m\u001b[0m\u001b[0m\n\u001b[0;32m     15\u001b[0m \u001b[1;33m\u001b[0m\u001b[0m\n\u001b[1;32m---> 16\u001b[1;33m \u001b[0mY_train\u001b[0m\u001b[1;33m.\u001b[0m\u001b[0mvalue_counts\u001b[0m\u001b[1;33m(\u001b[0m\u001b[1;33m)\u001b[0m\u001b[1;33m\u001b[0m\u001b[0m\n\u001b[0m",
      "\u001b[1;31mAttributeError\u001b[0m: 'numpy.ndarray' object has no attribute 'value_counts'"
     ]
    },
    {
     "data": {
      "image/png": "[encoded data removed]",
      "text/plain": [
       "<matplotlib.figure.Figure at 0x24411435ac8>"
      ]
     },
     "metadata": {},
     "output_type": "display_data"
    }
   ],
   "source": [
    "Y_train = train[\"Labels\"]\n",
    "\n",
    "print(type(Y_train))\n",
    "\n",
    "Y_train = LabelEncoder().fit(Y_train).transform(Y_train)\n",
    "\n",
    "print(type(Y_train))\n",
    "#Drop 'Label' Coloum\n",
    "X_train = train.drop(labels=[\"Labels\", \"id\"], axis=1)\n",
    "\n",
    "# #free some space\n",
    "# del train\n",
    "\n",
    "g = sns.countplot(Y_train)\n",
    "\n",
    "Y_train.value_counts()"
   ]
  },
  {
   "cell_type": "code",
   "execution_count": 15,
   "metadata": {},
   "outputs": [
    {
     "data": {
      "text/plain": [
       "count       784\n",
       "unique        1\n",
       "top       False\n",
       "freq        784\n",
       "dtype: object"
      ]
     },
     "execution_count": 15,
     "metadata": {},
     "output_type": "execute_result"
    }
   ],
   "source": [
    "X_train.isnull().any().describe()"
   ]
  },
  {
   "cell_type": "code",
   "execution_count": 16,
   "metadata": {
    "collapsed": true
   },
   "outputs": [],
   "source": [
    "X_train = X_train/255.0"
   ]
  },
  {
   "cell_type": "code",
   "execution_count": 17,
   "metadata": {
    "collapsed": true
   },
   "outputs": [],
   "source": [
    "X_train = X_train.values.reshape(-1,28,28,1)"
   ]
  },
  {
   "cell_type": "code",
   "execution_count": 18,
   "metadata": {
    "collapsed": true
   },
   "outputs": [],
   "source": [
    "Y_train = to_categorical(Y_train, num_classes = 8)"
   ]
  },
  {
   "cell_type": "code",
   "execution_count": 19,
   "metadata": {
    "collapsed": true
   },
   "outputs": [],
   "source": [
    "# Set the random seed\n",
    "random_seed = 2"
   ]
  },
  {
   "cell_type": "code",
   "execution_count": 20,
   "metadata": {
    "collapsed": true
   },
   "outputs": [],
   "source": [
    "# Split the train and the validation set for the fitting\n",
    "X_train, X_val, Y_train, Y_val = train_test_split(X_train, Y_train, test_size = 0.1, random_state=random_seed)\n"
   ]
  },
  {
   "cell_type": "code",
   "execution_count": 21,
   "metadata": {},
   "outputs": [
    {
     "data": {
      "image/png": "[encoded data removed]",
      "text/plain": [
       "<matplotlib.figure.Figure at 0x24411406320>"
      ]
     },
     "metadata": {},
     "output_type": "display_data"
    }
   ],
   "source": [
    "# Some examples\n",
    "g = plt.imshow(X_train[0][:,:,0])"
   ]
  },
  {
   "cell_type": "code",
   "execution_count": 29,
   "metadata": {
    "collapsed": true
   },
   "outputs": [],
   "source": [
    "# Set the CNN model \n",
    "# my CNN architechture is In -> [[Conv2D->relu]*2 -> MaxPool2D -> Dropout]*2 -> Flatten -> Dense -> Dropout -> Out\n",
    "\n",
    "model = Sequential()\n",
    "\n",
    "model.add(Conv2D(filters = 32, kernel_size = (5,5),padding = 'Same', \n",
    "                 activation ='relu', input_shape = (28,28,1)))\n",
    "model.add(Conv2D(filters = 32, kernel_size = (5,5),padding = 'Same', \n",
    "                 activation ='relu'))\n",
    "model.add(MaxPool2D(pool_size=(2,2)))\n",
    "model.add(Dropout(0.25))\n",
    "\n",
    "\n",
    "model.add(Conv2D(filters = 64, kernel_size = (3,3),padding = 'Same', \n",
    "                 activation ='relu'))\n",
    "model.add(Conv2D(filters = 64, kernel_size = (3,3),padding = 'Same', \n",
    "                 activation ='relu'))\n",
    "model.add(MaxPool2D(pool_size=(2,2), strides=(2,2)))\n",
    "model.add(Dropout(0.25))\n",
    "\n",
    "\n",
    "model.add(Flatten())\n",
    "model.add(Dense(256, activation = \"relu\"))\n",
    "model.add(Dropout(0.5))\n",
    "model.add(Dense(8, activation = \"softmax\"))"
   ]
  },
  {
   "cell_type": "code",
   "execution_count": 30,
   "metadata": {},
   "outputs": [],
   "source": [
    "# Define the optimizer\n",
    "optimizer = RMSprop(lr=0.001, rho=0.9, epsilon=1e-08, decay=0.0)\n"
   ]
  },
  {
   "cell_type": "code",
   "execution_count": 31,
   "metadata": {
    "collapsed": true
   },
   "outputs": [],
   "source": [
    "# Compile the model\n",
    "model.compile(optimizer = optimizer , loss = \"categorical_crossentropy\", metrics=[\"accuracy\"])"
   ]
  },
  {
   "cell_type": "code",
   "execution_count": 32,
   "metadata": {
    "collapsed": true
   },
   "outputs": [],
   "source": [
    "# Set a learning rate annealer\n",
    "learning_rate_reduction = ReduceLROnPlateau(monitor='val_acc', \n",
    "                                            patience=3, \n",
    "                                            verbose=1, \n",
    "                                            factor=0.5, \n",
    "                                            min_lr=0.00001)"
   ]
  },
  {
   "cell_type": "code",
   "execution_count": 41,
   "metadata": {
    "collapsed": true
   },
   "outputs": [],
   "source": [
    "epochs = 40 # Turn epochs to 30 to get 0.9967 accuracy\n",
    "batch_size = 60"
   ]
  },
  {
   "cell_type": "code",
   "execution_count": 42,
   "metadata": {},
   "outputs": [],
   "source": [
    "# With data augmentation to prevent overfitting (accuracy 0.99286)\n",
    "\n",
    "datagen = ImageDataGenerator(\n",
    "        featurewise_center=False,  # set input mean to 0 over the dataset\n",
    "        samplewise_center=False,  # set each sample mean to 0\n",
    "        featurewise_std_normalization=False,  # divide inputs by std of the dataset\n",
    "        samplewise_std_normalization=False,  # divide each input by its std\n",
    "        zca_whitening=False,  # apply ZCA whitening\n",
    "        rotation_range=10,  # randomly rotate images in the range (degrees, 0 to 180)\n",
    "        zoom_range = 0.1, # Randomly zoom image \n",
    "        width_shift_range=0.1,  # randomly shift images horizontally (fraction of total width)\n",
    "        height_shift_range=0.1,  # randomly shift images vertically (fraction of total height)\n",
    "        horizontal_flip=False,  # randomly flip images\n",
    "        vertical_flip=False)  # randomly flip images\n",
    "\n",
    "\n",
    "datagen.fit(X_train)\n"
   ]
  },
  {
   "cell_type": "code",
   "execution_count": 43,
   "metadata": {},
   "outputs": [
    {
     "name": "stdout",
     "output_type": "stream",
     "text": [
      "Epoch 1/40\n",
      " - 1s - loss: 0.0613 - acc: 0.9816 - val_loss: 0.2902 - val_acc: 0.9412\n",
      "Epoch 2/40\n",
      " - 1s - loss: 0.1838 - acc: 0.9500 - val_loss: 0.2485 - val_acc: 1.0000\n",
      "Epoch 3/40\n",
      " - 1s - loss: 0.0870 - acc: 0.9764 - val_loss: 0.2417 - val_acc: 1.0000\n",
      "Epoch 4/40\n",
      " - 1s - loss: 0.1375 - acc: 0.9291 - val_loss: 0.2465 - val_acc: 1.0000\n",
      "Epoch 5/40\n",
      " - 1s - loss: 0.1528 - acc: 0.9500 - val_loss: 0.2353 - val_acc: 1.0000\n",
      "Epoch 6/40\n",
      "\n",
      "Epoch 00006: reducing learning rate to 6.25000029685907e-05.\n",
      " - 1s - loss: 0.0905 - acc: 0.9527 - val_loss: 0.2386 - val_acc: 1.0000\n",
      "Epoch 7/40\n",
      " - 1s - loss: 0.0513 - acc: 0.9723 - val_loss: 0.2392 - val_acc: 1.0000\n",
      "Epoch 8/40\n",
      " - 1s - loss: 0.0665 - acc: 0.9723 - val_loss: 0.2377 - val_acc: 1.0000\n",
      "Epoch 9/40\n",
      "\n",
      "Epoch 00009: reducing learning rate to 3.125000148429535e-05.\n",
      " - 1s - loss: 0.1185 - acc: 0.9667 - val_loss: 0.2353 - val_acc: 1.0000\n",
      "Epoch 10/40\n",
      " - 1s - loss: 0.1742 - acc: 0.9667 - val_loss: 0.2373 - val_acc: 1.0000\n",
      "Epoch 11/40\n",
      " - 1s - loss: 0.1400 - acc: 0.9527 - val_loss: 0.2386 - val_acc: 1.0000\n",
      "Epoch 12/40\n",
      "\n",
      "Epoch 00012: reducing learning rate to 1.5625000742147677e-05.\n",
      " - 1s - loss: 0.1769 - acc: 0.9383 - val_loss: 0.2384 - val_acc: 1.0000\n",
      "Epoch 13/40\n",
      " - 1s - loss: 0.2358 - acc: 0.9250 - val_loss: 0.2360 - val_acc: 1.0000\n",
      "Epoch 14/40\n",
      " - 1s - loss: 0.1015 - acc: 0.9516 - val_loss: 0.2376 - val_acc: 1.0000\n",
      "Epoch 15/40\n",
      "\n",
      "Epoch 00015: reducing learning rate to 1e-05.\n",
      " - 1s - loss: 0.0998 - acc: 0.9667 - val_loss: 0.2376 - val_acc: 1.0000\n",
      "Epoch 16/40\n",
      " - 1s - loss: 0.1623 - acc: 0.9343 - val_loss: 0.2364 - val_acc: 1.0000\n",
      "Epoch 17/40\n",
      " - 1s - loss: 0.1231 - acc: 0.9500 - val_loss: 0.2361 - val_acc: 1.0000\n",
      "Epoch 18/40\n",
      " - 1s - loss: 0.1503 - acc: 0.9487 - val_loss: 0.2361 - val_acc: 1.0000\n",
      "Epoch 19/40\n",
      " - 1s - loss: 0.1360 - acc: 0.9527 - val_loss: 0.2365 - val_acc: 1.0000\n",
      "Epoch 20/40\n",
      " - 1s - loss: 0.1380 - acc: 0.9583 - val_loss: 0.2371 - val_acc: 1.0000\n",
      "Epoch 21/40\n",
      " - 1s - loss: 0.0740 - acc: 0.9712 - val_loss: 0.2369 - val_acc: 1.0000\n",
      "Epoch 22/40\n",
      " - 1s - loss: 0.0836 - acc: 0.9723 - val_loss: 0.2367 - val_acc: 1.0000\n",
      "Epoch 23/40\n",
      " - 2s - loss: 0.0304 - acc: 1.0000 - val_loss: 0.2362 - val_acc: 1.0000\n",
      "Epoch 24/40\n",
      " - 1s - loss: 0.1100 - acc: 0.9671 - val_loss: 0.2357 - val_acc: 1.0000\n",
      "Epoch 25/40\n",
      " - 1s - loss: 0.1672 - acc: 0.9527 - val_loss: 0.2334 - val_acc: 1.0000\n",
      "Epoch 26/40\n",
      " - 1s - loss: 0.1498 - acc: 0.9417 - val_loss: 0.2333 - val_acc: 1.0000\n",
      "Epoch 27/40\n",
      " - 1s - loss: 0.1352 - acc: 0.9671 - val_loss: 0.2326 - val_acc: 1.0000\n",
      "Epoch 28/40\n",
      " - 1s - loss: 0.2122 - acc: 0.9417 - val_loss: 0.2314 - val_acc: 1.0000\n",
      "Epoch 29/40\n",
      " - 1s - loss: 0.1131 - acc: 0.9355 - val_loss: 0.2304 - val_acc: 1.0000\n",
      "Epoch 30/40\n",
      " - 1s - loss: 0.1469 - acc: 0.9500 - val_loss: 0.2302 - val_acc: 1.0000\n",
      "Epoch 31/40\n",
      " - 1s - loss: 0.0972 - acc: 0.9764 - val_loss: 0.2305 - val_acc: 1.0000\n",
      "Epoch 32/40\n",
      " - 1s - loss: 0.1644 - acc: 0.9500 - val_loss: 0.2308 - val_acc: 1.0000\n",
      "Epoch 33/40\n",
      " - 1s - loss: 0.0906 - acc: 0.9620 - val_loss: 0.2307 - val_acc: 1.0000\n",
      "Epoch 34/40\n",
      " - 1s - loss: 0.0865 - acc: 0.9908 - val_loss: 0.2308 - val_acc: 1.0000\n",
      "Epoch 35/40\n",
      " - 1s - loss: 0.1210 - acc: 0.9500 - val_loss: 0.2307 - val_acc: 1.0000\n",
      "Epoch 36/40\n",
      " - 1s - loss: 0.1409 - acc: 0.9579 - val_loss: 0.2299 - val_acc: 1.0000\n",
      "Epoch 37/40\n",
      " - 1s - loss: 0.1497 - acc: 0.9291 - val_loss: 0.2299 - val_acc: 1.0000\n",
      "Epoch 38/40\n",
      " - 1s - loss: 0.0959 - acc: 0.9500 - val_loss: 0.2294 - val_acc: 1.0000\n",
      "Epoch 39/40\n",
      " - 1s - loss: 0.0670 - acc: 0.9816 - val_loss: 0.2301 - val_acc: 1.0000\n",
      "Epoch 40/40\n",
      " - 1s - loss: 0.0665 - acc: 0.9856 - val_loss: 0.2300 - val_acc: 1.0000\n"
     ]
    }
   ],
   "source": [
    "# Fit the model\n",
    "history = model.fit_generator(datagen.flow(X_train,Y_train, batch_size=batch_size),\n",
    "                              epochs = epochs, validation_data = (X_val,Y_val),\n",
    "                              verbose = 2, steps_per_epoch=X_train.shape[0] // batch_size\n",
    "                              , callbacks=[learning_rate_reduction])\n"
   ]
  },
  {
   "cell_type": "code",
   "execution_count": 49,
   "metadata": {},
   "outputs": [],
   "source": [
    "test = pd.read_csv(\"oka_original.csv\")\n",
    "test = test.drop(labels=[\"id\",\"Labels\"], axis=1)"
   ]
  },
  {
   "cell_type": "code",
   "execution_count": 50,
   "metadata": {},
   "outputs": [],
   "source": [
    "test = test/255.0"
   ]
  },
  {
   "cell_type": "code",
   "execution_count": 52,
   "metadata": {},
   "outputs": [],
   "source": [
    "test = test.values.reshape(-1,28,28,1)"
   ]
  },
  {
   "cell_type": "code",
   "execution_count": 56,
   "metadata": {
    "collapsed": true
   },
   "outputs": [],
   "source": [
    "results = model.predict(test)"
   ]
  },
  {
   "cell_type": "code",
   "execution_count": 57,
   "metadata": {},
   "outputs": [],
   "source": [
    "results = np.argmax(results,axis = 1)"
   ]
  },
  {
   "cell_type": "raw",
   "metadata": {},
   "source": []
  },
  {
   "cell_type": "code",
   "execution_count": 58,
   "metadata": {
    "collapsed": true
   },
   "outputs": [],
   "source": [
    "results = pd.Series(results,name=\"Label\")"
   ]
  },
  {
   "cell_type": "code",
   "execution_count": 59,
   "metadata": {},
   "outputs": [
    {
     "data": {
      "text/plain": [
       "0    4\n",
       "1    4\n",
       "2    0\n",
       "3    0\n",
       "4    7\n",
       "5    2\n",
       "6    1\n",
       "7    1\n",
       "Name: Label, dtype: int64"
      ]
     },
     "execution_count": 59,
     "metadata": {},
     "output_type": "execute_result"
    }
   ],
   "source": [
    "results"
   ]
  },
  {
   "cell_type": "code",
   "execution_count": 62,
   "metadata": {},
   "outputs": [],
   "source": [
    "from skimage.io import imread\n",
    "from skimage import util\n",
    "import numpy as np\n",
    "import os\n",
    "import pandas as pd\n",
    "\n",
    "i = False\n",
    "imageArray = np.asarray([[]])\n",
    "for root, dirs, files in os.walk(\"./data/original/\"):\n",
    "\n",
    "    for filename in files:\n",
    "\n",
    "        fileInitial = filename.split(\"_\")[0]\n",
    "\n",
    "        image = imread(root + filename, as_grey=True)\n",
    "        \n",
    "        image = util.invert(image)\n",
    "\n",
    "        ## MNIST dataset style. Make the range between 0 to 255\n",
    "\n",
    "        image = image * 255\n",
    "\n",
    "        image = image.flatten()\n",
    "\n",
    "        ## Converted data type to string. As numpy array doesn't support different types of data.##\n",
    "        ## fileInitial aka level parameters are of string type\n",
    "\n",
    "        image = image.astype(str)\n",
    "\n",
    "        image = np.insert(image, 0, fileInitial)\n",
    "\n",
    "        image = np.asarray([image])\n",
    "\n",
    "        if i == False:\n",
    "            imageArray = image\n",
    "            i = True\n",
    "        else:\n",
    "            imageArray = np.concatenate((imageArray ,image))\n",
    "\n",
    "\n",
    "## Use Panda DataFrame to save into csv file ##\n",
    "pdImageArray = pd.DataFrame(imageArray)\n",
    "\n",
    "pdImageArray.columns = ['pix'+str(i-1) for i in range(785)]\n",
    "pdImageArray.rename(columns={'pix-1': 'Labels'}, inplace=True)\n",
    "pdImageArray.to_csv(\"./data/original/original.csv\")"
   ]
  },
  {
   "cell_type": "code",
   "execution_count": null,
   "metadata": {
    "collapsed": true
   },
   "outputs": [],
   "source": []
  }
 ],
 "metadata": {
  "kernelspec": {
   "display_name": "Python 3",
   "language": "python",
   "name": "python3"
  },
  "language_info": {
   "codemirror_mode": {
    "name": "ipython",
    "version": 3
   },
   "file_extension": ".py",
   "mimetype": "text/x-python",
   "name": "python",
   "nbconvert_exporter": "python",
   "pygments_lexer": "ipython3",
   "version": "3.5.4"
  }
 },
 "nbformat": 4,
 "nbformat_minor": 2
}
